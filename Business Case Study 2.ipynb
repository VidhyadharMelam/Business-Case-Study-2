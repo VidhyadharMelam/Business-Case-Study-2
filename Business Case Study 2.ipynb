{
 "cells": [
  {
   "cell_type": "markdown",
   "metadata": {},
   "source": [
    "# Mandatory Business Case Study 2 By: Vidhyadhar Melam"
   ]
  },
  {
   "cell_type": "markdown",
   "metadata": {},
   "source": [
    "## Problem: Bank Marketing Business Case Analysis\n",
    "This dataset captures the results of a series of direct marketing campaigns of “BANK”, an\n",
    "international banking institution. The marketing campaigns were based on phone calls. Often,\n",
    "more than one contact to the same client was required, in order to access if the product (bank\n",
    "term deposit) would be ('yes') or not ('no') subscribed.\n",
    "The data is related with direct marketing campaigns of a Portuguese banking institution. The\n",
    "marketing campaigns were based on phone calls. Often, more than one contact to the same\n",
    "client was required, in order to access if the product (bank term deposit) would be ('yes') or\n",
    "not ('no') subscribed."
   ]
  },
  {
   "cell_type": "markdown",
   "metadata": {},
   "source": [
    "### Questions: Solve Using logistic regression method:\n",
    "   \n",
    "1. Run 2 models that predict the subscription of a term deposit\n",
    "2. Create an appropriate split and validate your models using ratio of correct predictions vs total predictions.\n",
    "3. Asses your model using performance metrics such as accuracy, precision, recall,F-score and G-score.\n",
    "4. Choose one model and provide actionable recommendations to the marketing department."
   ]
  },
  {
   "cell_type": "markdown",
   "metadata": {},
   "source": [
    "#1. Run 2 models that predict the subscription of a term deposit\n",
    "    SOLUTION :"
   ]
  },
  {
   "cell_type": "code",
   "execution_count": 19,
   "metadata": {},
   "outputs": [],
   "source": [
    "DF = read.csv(\"C:\\\\Users\\\\viddi\\\\Desktop\\\\BUSINESS CASE STUDY 2\\\\Datasets\\\\Assignment_2.csv\",na.strings = \"\")"
   ]
  },
  {
   "cell_type": "code",
   "execution_count": 20,
   "metadata": {},
   "outputs": [
    {
     "name": "stdout",
     "output_type": "stream",
     "text": [
      "'data.frame':\t41188 obs. of  21 variables:\n",
      " $ age           : int  56 57 37 40 56 45 59 41 24 25 ...\n",
      " $ job           : Factor w/ 12 levels \"admin.\",\"blue-collar\",..: 4 8 8 1 8 8 1 2 10 8 ...\n",
      " $ marital       : Factor w/ 4 levels \"divorced\",\"married\",..: 2 2 2 2 2 2 2 2 3 3 ...\n",
      " $ education     : Factor w/ 8 levels \"basic.4y\",\"basic.6y\",..: 1 4 4 2 4 3 6 8 6 4 ...\n",
      " $ default       : Factor w/ 3 levels \"no\",\"unknown\",..: 1 2 1 1 1 2 1 2 1 1 ...\n",
      " $ housing       : Factor w/ 3 levels \"no\",\"unknown\",..: 1 1 3 1 1 1 1 1 3 3 ...\n",
      " $ loan          : Factor w/ 3 levels \"no\",\"unknown\",..: 1 1 1 1 3 1 1 1 1 1 ...\n",
      " $ contact       : Factor w/ 2 levels \"cellular\",\"telephone\": 2 2 2 2 2 2 2 2 2 2 ...\n",
      " $ month         : Factor w/ 10 levels \"apr\",\"aug\",\"dec\",..: 7 7 7 7 7 7 7 7 7 7 ...\n",
      " $ day_of_week   : Factor w/ 5 levels \"fri\",\"mon\",\"thu\",..: 2 2 2 2 2 2 2 2 2 2 ...\n",
      " $ duration      : int  261 149 226 151 307 198 139 217 380 50 ...\n",
      " $ campaign      : int  1 1 1 1 1 1 1 1 1 1 ...\n",
      " $ pdays         : int  999 999 999 999 999 999 999 999 999 999 ...\n",
      " $ previous      : int  0 0 0 0 0 0 0 0 0 0 ...\n",
      " $ poutcome      : Factor w/ 3 levels \"failure\",\"nonexistent\",..: 2 2 2 2 2 2 2 2 2 2 ...\n",
      " $ emp.var.rate  : num  1.1 1.1 1.1 1.1 1.1 1.1 1.1 1.1 1.1 1.1 ...\n",
      " $ cons.price.idx: num  94 94 94 94 94 ...\n",
      " $ cons.conf.idx : num  -36.4 -36.4 -36.4 -36.4 -36.4 -36.4 -36.4 -36.4 -36.4 -36.4 ...\n",
      " $ euribor3m     : num  4.86 4.86 4.86 4.86 4.86 ...\n",
      " $ nr.employed   : num  5191 5191 5191 5191 5191 ...\n",
      " $ y             : Factor w/ 2 levels \"no\",\"yes\": 1 1 1 1 1 1 1 1 1 1 ...\n"
     ]
    }
   ],
   "source": [
    "str(DF)"
   ]
  },
  {
   "cell_type": "code",
   "execution_count": 21,
   "metadata": {},
   "outputs": [],
   "source": [
    "model_1 = glm(y~ age+job+marital+education+default+housing+loan+contact+\n",
    "             month+day_of_week+campaign+pdays+previous+poutcome+\n",
    "             emp.var.rate+cons.price.idx+cons.conf.idx+euribor3m+nr.employed,data = DF,family=\"binomial\")\n",
    "model_2 = glm(y~ age+job+marital+education+default+housing+loan+contact+\n",
    "             month+day_of_week+campaign+pdays+previous+poutcome+\n",
    "             emp.var.rate+cons.price.idx+cons.conf.idx+euribor3m+nr.employed,data = DF,family=\"quasibinomial\")"
   ]
  },
  {
   "cell_type": "code",
   "execution_count": 22,
   "metadata": {},
   "outputs": [
    {
     "data": {
      "text/plain": [
       "\n",
       "Call:\n",
       "glm(formula = y ~ age + job + marital + education + default + \n",
       "    housing + loan + contact + month + day_of_week + campaign + \n",
       "    pdays + previous + poutcome + emp.var.rate + cons.price.idx + \n",
       "    cons.conf.idx + euribor3m + nr.employed, family = \"binomial\", \n",
       "    data = DF)\n",
       "\n",
       "Deviance Residuals: \n",
       "    Min       1Q   Median       3Q      Max  \n",
       "-2.0810  -0.3926  -0.3190  -0.2617   2.9643  \n",
       "\n",
       "Coefficients: (1 not defined because of singularities)\n",
       "                               Estimate Std. Error z value Pr(>|z|)    \n",
       "(Intercept)                  -2.285e+02  3.339e+01  -6.844 7.68e-12 ***\n",
       "age                           4.392e-04  2.128e-03   0.206 0.836459    \n",
       "jobblue-collar               -1.515e-01  6.882e-02  -2.201 0.027704 *  \n",
       "jobentrepreneur              -7.367e-02  1.074e-01  -0.686 0.492598    \n",
       "jobhousemaid                 -9.238e-02  1.285e-01  -0.719 0.472111    \n",
       "jobmanagement                -6.176e-02  7.520e-02  -0.821 0.411493    \n",
       "jobretired                    2.369e-01  9.460e-02   2.504 0.012281 *  \n",
       "jobself-employed             -6.599e-02  1.019e-01  -0.647 0.517390    \n",
       "jobservices                  -1.288e-01  7.520e-02  -1.713 0.086788 .  \n",
       "jobstudent                    2.010e-01  1.005e-01   1.999 0.045594 *  \n",
       "jobtechnician                -1.596e-02  6.228e-02  -0.256 0.797699    \n",
       "jobunemployed                -2.144e-02  1.115e-01  -0.192 0.847486    \n",
       "jobunknown                   -1.740e-01  2.116e-01  -0.822 0.410920    \n",
       "maritalmarried                4.440e-02  6.010e-02   0.739 0.460069    \n",
       "maritalsingle                 8.874e-02  6.847e-02   1.296 0.194968    \n",
       "maritalunknown                3.093e-01  3.724e-01   0.831 0.406187    \n",
       "educationbasic.6y             1.232e-01  1.037e-01   1.188 0.234735    \n",
       "educationbasic.9y            -2.216e-02  8.256e-02  -0.268 0.788383    \n",
       "educationhigh.school          3.548e-02  8.026e-02   0.442 0.658487    \n",
       "educationilliterate           9.020e-01  6.487e-01   1.391 0.164338    \n",
       "educationprofessional.course  4.688e-02  8.854e-02   0.529 0.596522    \n",
       "educationuniversity.degree    1.133e-01  8.039e-02   1.409 0.158746    \n",
       "educationunknown              1.072e-01  1.051e-01   1.020 0.307772    \n",
       "defaultunknown               -2.449e-01  5.753e-02  -4.257 2.07e-05 ***\n",
       "defaultyes                   -8.629e+00  1.135e+02  -0.076 0.939387    \n",
       "housingunknown               -8.442e-02  1.193e-01  -0.708 0.479031    \n",
       "housingyes                   -2.936e-02  3.608e-02  -0.814 0.415741    \n",
       "loanunknown                          NA         NA      NA       NA    \n",
       "loanyes                      -2.636e-02  4.988e-02  -0.529 0.597112    \n",
       "contacttelephone             -7.369e-01  6.708e-02 -10.985  < 2e-16 ***\n",
       "monthaug                      4.546e-01  1.080e-01   4.208 2.58e-05 ***\n",
       "monthdec                      4.503e-01  1.892e-01   2.380 0.017305 *  \n",
       "monthjul                      5.507e-02  8.346e-02   0.660 0.509383    \n",
       "monthjun                     -6.472e-01  1.115e-01  -5.807 6.38e-09 ***\n",
       "monthmar                      1.488e+00  1.303e-01  11.421  < 2e-16 ***\n",
       "monthmay                     -4.061e-01  7.228e-02  -5.618 1.93e-08 ***\n",
       "monthnov                     -4.498e-01  1.052e-01  -4.276 1.90e-05 ***\n",
       "monthoct                      4.056e-02  1.353e-01   0.300 0.764349    \n",
       "monthsep                      2.373e-01  1.587e-01   1.496 0.134765    \n",
       "day_of_weekmon               -2.074e-01  5.796e-02  -3.579 0.000345 ***\n",
       "day_of_weekthu                7.863e-02  5.578e-02   1.410 0.158638    \n",
       "day_of_weektue                5.814e-02  5.749e-02   1.011 0.311872    \n",
       "day_of_weekwed                1.616e-01  5.703e-02   2.833 0.004611 ** \n",
       "campaign                     -4.328e-02  9.185e-03  -4.712 2.45e-06 ***\n",
       "pdays                        -1.094e-03  2.002e-04  -5.465 4.64e-08 ***\n",
       "previous                     -6.269e-02  5.573e-02  -1.125 0.260643    \n",
       "poutcomenonexistent           4.442e-01  8.635e-02   5.144 2.70e-07 ***\n",
       "poutcomesuccess               7.666e-01  1.958e-01   3.915 9.05e-05 ***\n",
       "emp.var.rate                 -1.470e+00  1.241e-01 -11.841  < 2e-16 ***\n",
       "cons.price.idx                2.068e+00  2.202e-01   9.393  < 2e-16 ***\n",
       "cons.conf.idx                 2.930e-02  6.991e-03   4.192 2.77e-05 ***\n",
       "euribor3m                     1.977e-01  1.146e-01   1.725 0.084590 .  \n",
       "nr.employed                   6.627e-03  2.717e-03   2.439 0.014708 *  \n",
       "---\n",
       "Signif. codes:  0 '***' 0.001 '**' 0.01 '*' 0.05 '.' 0.1 ' ' 1\n",
       "\n",
       "(Dispersion parameter for binomial family taken to be 1)\n",
       "\n",
       "    Null deviance: 28999  on 41187  degrees of freedom\n",
       "Residual deviance: 22711  on 41136  degrees of freedom\n",
       "AIC: 22815\n",
       "\n",
       "Number of Fisher Scoring iterations: 10\n"
      ]
     },
     "metadata": {},
     "output_type": "display_data"
    }
   ],
   "source": [
    "summary(model_1)"
   ]
  },
  {
   "cell_type": "code",
   "execution_count": 23,
   "metadata": {},
   "outputs": [
    {
     "data": {
      "text/plain": [
       "\n",
       "Call:\n",
       "glm(formula = y ~ age + job + marital + education + default + \n",
       "    housing + loan + contact + month + day_of_week + campaign + \n",
       "    pdays + previous + poutcome + emp.var.rate + cons.price.idx + \n",
       "    cons.conf.idx + euribor3m + nr.employed, family = \"quasibinomial\", \n",
       "    data = DF)\n",
       "\n",
       "Deviance Residuals: \n",
       "    Min       1Q   Median       3Q      Max  \n",
       "-2.0810  -0.3926  -0.3190  -0.2617   2.9643  \n",
       "\n",
       "Coefficients: (1 not defined because of singularities)\n",
       "                               Estimate Std. Error t value Pr(>|t|)    \n",
       "(Intercept)                  -2.285e+02  3.361e+01  -6.798 1.07e-11 ***\n",
       "age                           4.392e-04  2.142e-03   0.205 0.837545    \n",
       "jobblue-collar               -1.515e-01  6.928e-02  -2.187 0.028774 *  \n",
       "jobentrepreneur              -7.367e-02  1.081e-01  -0.682 0.495515    \n",
       "jobhousemaid                 -9.238e-02  1.293e-01  -0.714 0.475099    \n",
       "jobmanagement                -6.176e-02  7.571e-02  -0.816 0.414650    \n",
       "jobretired                    2.369e-01  9.524e-02   2.487 0.012882 *  \n",
       "jobself-employed             -6.599e-02  1.026e-01  -0.643 0.520214    \n",
       "jobservices                  -1.288e-01  7.571e-02  -1.701 0.088936 .  \n",
       "jobstudent                    2.010e-01  1.012e-01   1.986 0.047074 *  \n",
       "jobtechnician                -1.596e-02  6.270e-02  -0.255 0.799031    \n",
       "jobunemployed                -2.144e-02  1.122e-01  -0.191 0.848500    \n",
       "jobunknown                   -1.740e-01  2.131e-01  -0.817 0.414078    \n",
       "maritalmarried                4.440e-02  6.051e-02   0.734 0.463095    \n",
       "maritalsingle                 8.874e-02  6.893e-02   1.287 0.197995    \n",
       "maritalunknown                3.093e-01  3.749e-01   0.825 0.409355    \n",
       "educationbasic.6y             1.232e-01  1.044e-01   1.180 0.237904    \n",
       "educationbasic.9y            -2.216e-02  8.312e-02  -0.267 0.789774    \n",
       "educationhigh.school          3.548e-02  8.081e-02   0.439 0.660642    \n",
       "educationilliterate           9.020e-01  6.531e-01   1.381 0.167201    \n",
       "educationprofessional.course  4.688e-02  8.914e-02   0.526 0.598996    \n",
       "educationuniversity.degree    1.133e-01  8.094e-02   1.400 0.161573    \n",
       "educationunknown              1.072e-01  1.058e-01   1.013 0.311042    \n",
       "defaultunknown               -2.449e-01  5.792e-02  -4.228 2.36e-05 ***\n",
       "defaultyes                   -8.629e+00  1.142e+02  -0.076 0.939794    \n",
       "housingunknown               -8.442e-02  1.201e-01  -0.703 0.481996    \n",
       "housingyes                   -2.936e-02  3.633e-02  -0.808 0.418888    \n",
       "loanunknown                          NA         NA      NA       NA    \n",
       "loanyes                      -2.636e-02  5.022e-02  -0.525 0.599584    \n",
       "contacttelephone             -7.369e-01  6.754e-02 -10.911  < 2e-16 ***\n",
       "monthaug                      4.546e-01  1.088e-01   4.179 2.93e-05 ***\n",
       "monthdec                      4.503e-01  1.905e-01   2.364 0.018075 *  \n",
       "monthjul                      5.507e-02  8.403e-02   0.655 0.512239    \n",
       "monthjun                     -6.472e-01  1.122e-01  -5.768 8.10e-09 ***\n",
       "monthmar                      1.488e+00  1.311e-01  11.344  < 2e-16 ***\n",
       "monthmay                     -4.061e-01  7.277e-02  -5.580 2.42e-08 ***\n",
       "monthnov                     -4.498e-01  1.059e-01  -4.247 2.17e-05 ***\n",
       "monthoct                      4.056e-02  1.362e-01   0.298 0.765889    \n",
       "monthsep                      2.373e-01  1.598e-01   1.486 0.137415    \n",
       "day_of_weekmon               -2.074e-01  5.835e-02  -3.555 0.000379 ***\n",
       "day_of_weekthu                7.863e-02  5.616e-02   1.400 0.161465    \n",
       "day_of_weektue                5.814e-02  5.788e-02   1.005 0.315143    \n",
       "day_of_weekwed                1.616e-01  5.742e-02   2.814 0.004895 ** \n",
       "campaign                     -4.328e-02  9.247e-03  -4.681 2.87e-06 ***\n",
       "pdays                        -1.094e-03  2.016e-04  -5.428 5.74e-08 ***\n",
       "previous                     -6.269e-02  5.611e-02  -1.117 0.263869    \n",
       "poutcomenonexistent           4.442e-01  8.694e-02   5.109 3.25e-07 ***\n",
       "poutcomesuccess               7.666e-01  1.972e-01   3.888 0.000101 ***\n",
       "emp.var.rate                 -1.470e+00  1.250e-01 -11.762  < 2e-16 ***\n",
       "cons.price.idx                2.068e+00  2.217e-01   9.329  < 2e-16 ***\n",
       "cons.conf.idx                 2.930e-02  7.038e-03   4.164 3.14e-05 ***\n",
       "euribor3m                     1.977e-01  1.154e-01   1.713 0.086709 .  \n",
       "nr.employed                   6.627e-03  2.735e-03   2.423 0.015393 *  \n",
       "---\n",
       "Signif. codes:  0 '***' 0.001 '**' 0.01 '*' 0.05 '.' 0.1 ' ' 1\n",
       "\n",
       "(Dispersion parameter for quasibinomial family taken to be 1.013585)\n",
       "\n",
       "    Null deviance: 28999  on 41187  degrees of freedom\n",
       "Residual deviance: 22711  on 41136  degrees of freedom\n",
       "AIC: NA\n",
       "\n",
       "Number of Fisher Scoring iterations: 10\n"
      ]
     },
     "metadata": {},
     "output_type": "display_data"
    }
   ],
   "source": [
    "summary(model_2)"
   ]
  },
  {
   "cell_type": "markdown",
   "metadata": {},
   "source": [
    "#2. Create an appropriate split and validate your models using ratio of correct predictions vs total predictions.\n"
   ]
  },
  {
   "cell_type": "code",
   "execution_count": 24,
   "metadata": {},
   "outputs": [],
   "source": [
    "library(dplyr)"
   ]
  },
  {
   "cell_type": "code",
   "execution_count": 25,
   "metadata": {},
   "outputs": [],
   "source": [
    "## 75% of the sample size\n",
    "smp_size <- floor(0.75 * nrow(DF))\n",
    "\n",
    "## set the seed to make your partition reproducible\n",
    "set.seed(123)\n",
    "train_ind <- sample(seq_len(nrow(DF)), size = smp_size)\n",
    "\n",
    "Train <- DF[train_ind, ]\n",
    "Test <- DF[-train_ind, ]"
   ]
  },
  {
   "cell_type": "code",
   "execution_count": 26,
   "metadata": {},
   "outputs": [],
   "source": [
    "model_1 = glm(y~ age+job+marital+education+default+housing+loan+contact+\n",
    "             month+day_of_week+campaign+pdays+previous+poutcome+\n",
    "             emp.var.rate+cons.price.idx+cons.conf.idx+euribor3m+nr.employed,data = Train,family=\"binomial\")\n",
    "model_2 = glm(y~ age+job+marital+education+default+housing+loan+contact+\n",
    "             month+day_of_week+campaign+pdays+previous+poutcome+\n",
    "             emp.var.rate+cons.price.idx+cons.conf.idx+euribor3m+nr.employed,data = Train,family=\"quasibinomial\")"
   ]
  },
  {
   "cell_type": "code",
   "execution_count": 27,
   "metadata": {},
   "outputs": [
    {
     "name": "stderr",
     "output_type": "stream",
     "text": [
      "Warning message in predict.lm(object, newdata, se.fit, scale = 1, type = if (type == :\n",
      "\"prediction from a rank-deficient fit may be misleading\""
     ]
    }
   ],
   "source": [
    "Test$model_prob <- predict(model_1, type = \"response\",newdata = Test)\n"
   ]
  },
  {
   "cell_type": "code",
   "execution_count": 28,
   "metadata": {},
   "outputs": [],
   "source": [
    "Test_1 <- Test  %>% mutate(model_pred = 1*(model_prob > .50) + 0, y_binary = 1*(y == \"yes\") + 0)"
   ]
  },
  {
   "cell_type": "code",
   "execution_count": 29,
   "metadata": {},
   "outputs": [
    {
     "name": "stdout",
     "output_type": "stream",
     "text": [
      "Correct Prediction vs Total Prediction =  0.9040497"
     ]
    }
   ],
   "source": [
    "Test_1 <- Test_1 %>% mutate(accurate = 1*(model_pred == y_binary))\n",
    "cat(\"Correct Prediction vs Total Prediction = \",sum(Test_1$accurate)/nrow(Test_1))\n"
   ]
  },
  {
   "cell_type": "markdown",
   "metadata": {},
   "source": [
    "> ### The above is test accuracy which is Correct prediction/ total predictions. Accuracy is 90.4%."
   ]
  },
  {
   "cell_type": "markdown",
   "metadata": {},
   "source": [
    "#3. Asses your model using performance metrics such as accuracy, precision, recall, F-score and G-score."
   ]
  },
  {
   "cell_type": "markdown",
   "metadata": {},
   "source": [
    "> #### From the above solution we know that accuracy of the model is 90%"
   ]
  },
  {
   "cell_type": "code",
   "execution_count": 30,
   "metadata": {},
   "outputs": [],
   "source": [
    "P = nrow(Test_1[Test_1$y_binary == 1,])\n",
    "N = nrow(Test_1[Test_1$y_binary == 0,])\n",
    "TP = nrow(Test_1[Test_1$y_binary == 1& Test_1$model_pred==1,])\n",
    "TN = nrow(Test_1[Test_1$y_binary == 0& Test_1$model_pred==0,])\n",
    "FN = nrow(Test_1[Test_1$y_binary == 1& Test_1$model_pred==0,])\n",
    "FP = nrow(Test_1[Test_1$y_binary == 0& Test_1$model_pred==1,])"
   ]
  },
  {
   "cell_type": "code",
   "execution_count": 31,
   "metadata": {},
   "outputs": [],
   "source": [
    "Sensitivity.TPR = TP / (TP + FN)\n",
    "Specificity.SPC = TN / (FP + TN)\n",
    "Precision.PPV = TP / (TP + FP)\n",
    "Negative_Predictive_Value.NPV = TN / (TN + FN)\n",
    "False_Positive_Rate.FPR = FP / (FP + TN)\n",
    "False_Discovery_Rate.FDR = FP / (FP + TP)\n",
    "False_Negative_Rate.FNR = FN / (FN + TP)\n",
    "Accuracy.ACC = (TP + TN) / (P + N)\n",
    "F1_Score.F1 = 2*TP / (2*TP + FP + FN)\n",
    "recall= TP/(TP+FN)"
   ]
  },
  {
   "cell_type": "code",
   "execution_count": 32,
   "metadata": {},
   "outputs": [
    {
     "name": "stdout",
     "output_type": "stream",
     "text": [
      "Accuracy of the model is =  90.40497"
     ]
    }
   ],
   "source": [
    "cat(\"Accuracy of the model is = \",Accuracy.ACC*100)"
   ]
  },
  {
   "cell_type": "code",
   "execution_count": 33,
   "metadata": {},
   "outputs": [
    {
     "name": "stdout",
     "output_type": "stream",
     "text": [
      "Recall of the model is =  23.29137"
     ]
    }
   ],
   "source": [
    "cat(\"Recall of the model is = \", recall*100)"
   ]
  },
  {
   "cell_type": "code",
   "execution_count": 34,
   "metadata": {},
   "outputs": [
    {
     "name": "stdout",
     "output_type": "stream",
     "text": [
      "The F score for the model is = 34.39575"
     ]
    }
   ],
   "source": [
    "cat(\"The F score for the model is =\", F1_Score.F1*100)"
   ]
  },
  {
   "cell_type": "code",
   "execution_count": 35,
   "metadata": {},
   "outputs": [
    {
     "data": {
      "text/html": [
       "0.232913669064748"
      ],
      "text/latex": [
       "0.232913669064748"
      ],
      "text/markdown": [
       "0.232913669064748"
      ],
      "text/plain": [
       "[1] 0.2329137"
      ]
     },
     "metadata": {},
     "output_type": "display_data"
    }
   ],
   "source": [
    "Sensitivity.TPR"
   ]
  },
  {
   "cell_type": "code",
   "execution_count": 36,
   "metadata": {},
   "outputs": [
    {
     "data": {
      "text/html": [
       "0.657360406091371"
      ],
      "text/latex": [
       "0.657360406091371"
      ],
      "text/markdown": [
       "0.657360406091371"
      ],
      "text/plain": [
       "[1] 0.6573604"
      ]
     },
     "metadata": {},
     "output_type": "display_data"
    }
   ],
   "source": [
    "Precision.PPV"
   ]
  },
  {
   "cell_type": "code",
   "execution_count": 37,
   "metadata": {},
   "outputs": [
    {
     "data": {
      "text/html": [
       "0.985302123026674"
      ],
      "text/latex": [
       "0.985302123026674"
      ],
      "text/markdown": [
       "0.985302123026674"
      ],
      "text/plain": [
       "[1] 0.9853021"
      ]
     },
     "metadata": {},
     "output_type": "display_data"
    }
   ],
   "source": [
    "Specificity.SPC"
   ]
  },
  {
   "cell_type": "code",
   "execution_count": 38,
   "metadata": {},
   "outputs": [
    {
     "name": "stdout",
     "output_type": "stream",
     "text": [
      "The G score for the model is =  39.12905"
     ]
    }
   ],
   "source": [
    "G.score = sqrt(Precision.PPV*recall)\n",
    "cat(\"The G score for the model is = \",G.score*100)"
   ]
  },
  {
   "cell_type": "code",
   "execution_count": null,
   "metadata": {},
   "outputs": [],
   "source": []
  }
 ],
 "metadata": {
  "kernelspec": {
   "display_name": "Python 3 (ipykernel)",
   "language": "python",
   "name": "python3"
  },
  "language_info": {
   "codemirror_mode": {
    "name": "ipython",
    "version": 3
   },
   "file_extension": ".py",
   "mimetype": "text/x-python",
   "name": "python",
   "nbconvert_exporter": "python",
   "pygments_lexer": "ipython3",
   "version": "3.10.7"
  }
 },
 "nbformat": 4,
 "nbformat_minor": 2
}
